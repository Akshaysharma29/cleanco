{
 "cells": [
  {
   "cell_type": "code",
   "execution_count": 93,
   "metadata": {},
   "outputs": [],
   "source": [
    "from cleanco.termdata import terms_by_country, terms_by_type\n",
    "from iso3166 import countries_by_name, countries_by_alpha2\n",
    "from iso20275 import Elf, ElfEntry"
   ]
  },
  {
   "cell_type": "markdown",
   "metadata": {},
   "source": [
    "# 1. Map names"
   ]
  },
  {
   "cell_type": "code",
   "execution_count": 94,
   "metadata": {},
   "outputs": [],
   "source": [
    "country_mapping = dict.fromkeys(terms_by_country)\n",
    "\n",
    "for name in terms_by_country:\n",
    "   for isoname, country in countries_by_name.items():\n",
    "      if name.lower() == isoname.lower():\n",
    "         country_mapping[name] = country.alpha2"
   ]
  },
  {
   "cell_type": "markdown",
   "metadata": {},
   "source": [
    "## update missing codes..."
   ]
  },
  {
   "cell_type": "code",
   "execution_count": 95,
   "metadata": {},
   "outputs": [],
   "source": [
    "# iso20275 code list has no entries for Albania\n",
    "country_mapping['Bosnia / Herzegovina'] = 'BA'\n",
    "country_mapping['Columbia'] = 'CO'\n",
    "country_mapping['Czech Republic'] = 'CZ'\n",
    "country_mapping['Luxemborg'] = 'LU'\n",
    "country_mapping['Macedonia'] = 'MK'\n",
    "country_mapping['Russia'] = 'RU'\n",
    "country_mapping['United Kingdom'] = 'GB'"
   ]
  },
  {
   "cell_type": "code",
   "execution_count": 96,
   "metadata": {},
   "outputs": [
    {
     "data": {
      "text/plain": [
       "True"
      ]
     },
     "execution_count": 96,
     "metadata": {},
     "output_type": "execute_result"
    }
   ],
   "source": [
    "all(((countries_by_alpha2[code] for code in country_mapping.values())))"
   ]
  },
  {
   "cell_type": "markdown",
   "metadata": {},
   "source": [
    "## ... and generate ElfEntry items"
   ]
  },
  {
   "cell_type": "code",
   "execution_count": 97,
   "metadata": {},
   "outputs": [],
   "source": [
    "country_entries = []\n",
    "\n",
    "for name, terms in terms_by_country.items():\n",
    "    entry = dict.fromkeys(ElfEntry.__properties__, '')\n",
    "    cc = country_mapping[name]\n",
    "    entry[\"alpha2\"] = cc\n",
    "    entry[\"country\"] = countries_by_alpha2[cc].name\n",
    "    entry[\"transliterated_abbreviations\"] = ';'.join(terms)\n",
    "    country_entries.append(ElfEntry(entry))\n",
    "    "
   ]
  },
  {
   "cell_type": "code",
   "execution_count": 98,
   "metadata": {},
   "outputs": [
    {
     "name": "stdout",
     "output_type": "stream",
     "text": [
      "MX Mexico s.a.;s. de. r.l.;s. en c.;s.a.b.;s.a.p.i.\n"
     ]
    }
   ],
   "source": [
    "e = country_entries[40]; print(e.alpha2, e.country, e.transliterated_abbreviations)"
   ]
  },
  {
   "cell_type": "markdown",
   "metadata": {},
   "source": [
    "# 2. Map types"
   ]
  },
  {
   "cell_type": "code",
   "execution_count": 101,
   "metadata": {},
   "outputs": [
    {
     "name": "stdout",
     "output_type": "stream",
     "text": [
      "['Joint Stock / Unlimited', 'Joint Venture', 'Limited', 'No Liability', 'Non-Profit']\n"
     ]
    }
   ],
   "source": [
    "type_mapping = dict.fromkeys(terms_by_type)\n",
    "\n",
    "for typename in terms_by_type:\n",
    "   type_mapping[typename] = []\n",
    "   for elfcode, entries in Elf.items():\n",
    "      for entry in entries:\n",
    "         if typename.lower() == entry.transliterated_name.lower():\n",
    "            type_mapping[typename].append((elfcode, entry.language_code))\n",
    "print([name for name, entries in type_mapping.items() if len(entries)==0])"
   ]
  },
  {
   "cell_type": "markdown",
   "metadata": {},
   "source": [
    "**(this part still in process)**"
   ]
  },
  {
   "cell_type": "code",
   "execution_count": null,
   "metadata": {},
   "outputs": [],
   "source": []
  }
 ],
 "metadata": {
  "kernelspec": {
   "display_name": "Python 3",
   "language": "python",
   "name": "python3"
  },
  "language_info": {
   "codemirror_mode": {
    "name": "ipython",
    "version": 3
   },
   "file_extension": ".py",
   "mimetype": "text/x-python",
   "name": "python",
   "nbconvert_exporter": "python",
   "pygments_lexer": "ipython3",
   "version": "3.8.2"
  }
 },
 "nbformat": 4,
 "nbformat_minor": 4
}
