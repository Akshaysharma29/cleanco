{
 "cells": [
  {
   "cell_type": "code",
   "execution_count": 35,
   "metadata": {},
   "outputs": [],
   "source": [
    "from cleanco.termdata import terms_by_country, terms_by_type\n",
    "from iso3166 import countries_by_name\n",
    "from iso20275 import Elf, ElfEntry"
   ]
  },
  {
   "cell_type": "code",
   "execution_count": 36,
   "metadata": {},
   "outputs": [],
   "source": [
    "country_mapping = dict.fromkeys(terms_by_country)\n",
    "\n",
    "for name in terms_by_country:\n",
    "   for isoname, country in countries_by_name.items():\n",
    "      if name.lower() == isoname.lower():\n",
    "         country_mapping[name] = country.alpha2"
   ]
  },
  {
   "cell_type": "code",
   "execution_count": 37,
   "metadata": {},
   "outputs": [
    {
     "name": "stdout",
     "output_type": "stream",
     "text": [
      "{'Albania': 'AL', 'Argentina': 'AR', 'Australia': 'AU', 'Austria': 'AT', 'Belarus': 'BY', 'Belgium': 'BE', 'Bosnia / Herzegovina': None, 'Brazil': 'BR', 'Bulgaria': 'BG', 'Cambodia': 'KH', 'Canada': 'CA', 'Chile': 'CL', 'Columbia': None, 'Croatia': 'HR', 'Czech Republic': None, 'Denmark': 'DK', 'Dominican Republic': 'DO', 'Ecuador': 'EC', 'Egypt': 'EG', 'Estonia': 'EE', 'Finland': 'FI', 'France': 'FR', 'Germany': 'DE', 'Greece': 'GR', 'Guatemala': 'GT', 'Haiti': 'HT', 'Hong Kong': 'HK', 'Hungary': 'HU', 'Iceland': 'IS', 'India': 'IN', 'Indonesia': 'ID', 'Ireland': 'IE', 'Israel': 'IL', 'Italy': 'IT', 'Latvia': 'LV', 'Lebanon': 'LB', 'Lithuania': 'LT', 'Luxemborg': None, 'Macedonia': None, 'Malaysia': 'MY', 'Mexico': 'MX', 'Mongolia': 'MN', 'Netherlands': 'NL', 'New Zealand': 'NZ', 'Nigeria': 'NG', 'Norway': 'NO', 'Oman': 'OM', 'Pakistan': 'PK', 'Peru': 'PE', 'Philippines': 'PH', 'Poland': 'PL', 'Portugal': 'PT', 'Romania': 'RO', 'Russia': None, 'Serbia': 'RS', 'Singapore': 'SG', 'Slovenia': 'SI', 'Slovakia': 'SK', 'Spain': 'ES', 'Sweden': 'SE', 'Switzerland': 'CH', 'Turkey': 'TR', 'Ukraine': 'UA', 'United Kingdom': None, 'United States of America': 'US', 'Uzbekistan': 'UZ'}\n",
      "['Bosnia / Herzegovina', 'Columbia', 'Czech Republic', 'Luxemborg', 'Macedonia', 'Russia', 'United Kingdom']\n"
     ]
    }
   ],
   "source": [
    "print(country_mapping); print([name for name, code in country_mapping.items() if not code])"
   ]
  },
  {
   "cell_type": "code",
   "execution_count": 31,
   "metadata": {},
   "outputs": [],
   "source": [
    "country_mapping['Bosnia / Herzegovina'] = 'BA'\n",
    "country_mapping['Columbia'] = 'CO'\n",
    "country_mapping['Czech Republic'] = 'CZ'\n",
    "country_mapping['Luxemborg'] = 'LU'\n",
    "country_mapping['Macedonia'] = 'MK'\n",
    "country_mapping['Russia'] = 'RU'\n",
    "country_mapping['United Kingdom'] = 'GB'"
   ]
  },
  {
   "cell_type": "code",
   "execution_count": 32,
   "metadata": {},
   "outputs": [
    {
     "name": "stdout",
     "output_type": "stream",
     "text": [
      "[]\n"
     ]
    }
   ],
   "source": [
    "print([name for name, code in country_mapping.items() if not code])"
   ]
  },
  {
   "cell_type": "code",
   "execution_count": 34,
   "metadata": {},
   "outputs": [
    {
     "name": "stdout",
     "output_type": "stream",
     "text": [
      "['Joint Stock / Unlimited', 'Joint Venture', 'Limited', 'No Liability', 'Non-Profit']\n"
     ]
    }
   ],
   "source": [
    "type_mapping = dict.fromkeys(terms_by_type)\n",
    "\n",
    "for typename in terms_by_type:\n",
    "   type_mapping[typename] = []\n",
    "   for elfcode, entries in Elf.items():\n",
    "      for entry in entries:\n",
    "         if typename.lower() == entry.transliterated_name.lower():\n",
    "            type_mapping[typename].append((elfcode, entry.language_code))\n",
    "print([name for name, entries in type_mapping.items() if len(entries)==0])"
   ]
  },
  {
   "cell_type": "code",
   "execution_count": 38,
   "metadata": {},
   "outputs": [],
   "source": [
    "country_entries = []"
   ]
  },
  {
   "cell_type": "code",
   "execution_count": 19,
   "metadata": {},
   "outputs": [],
   "source": [
    "entry = dict.fromkeys(ElfEntry.__properties__)"
   ]
  },
  {
   "cell_type": "code",
   "execution_count": 20,
   "metadata": {},
   "outputs": [],
   "source": []
  },
  {
   "cell_type": "code",
   "execution_count": null,
   "metadata": {},
   "outputs": [],
   "source": []
  }
 ],
 "metadata": {
  "kernelspec": {
   "display_name": "Python 3",
   "language": "python",
   "name": "python3"
  },
  "language_info": {
   "codemirror_mode": {
    "name": "ipython",
    "version": 3
   },
   "file_extension": ".py",
   "mimetype": "text/x-python",
   "name": "python",
   "nbconvert_exporter": "python",
   "pygments_lexer": "ipython3",
   "version": "3.8.2"
  }
 },
 "nbformat": 4,
 "nbformat_minor": 4
}
